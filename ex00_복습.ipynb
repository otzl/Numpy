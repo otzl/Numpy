{
 "cells": [
  {
   "cell_type": "code",
   "execution_count": 1,
   "id": "329b2f1f",
   "metadata": {},
   "outputs": [],
   "source": [
    "# 리스트 생성\n",
    "list1 = [1,2,3,4,5]"
   ]
  },
  {
   "cell_type": "code",
   "execution_count": 2,
   "id": "df12d222",
   "metadata": {},
   "outputs": [
    {
     "data": {
      "text/plain": [
       "2042545021440"
      ]
     },
     "execution_count": 2,
     "metadata": {},
     "output_type": "execute_result"
    }
   ],
   "source": [
    "# 리스트의 주소값 확인\n",
    "id(list1)"
   ]
  },
  {
   "cell_type": "code",
   "execution_count": 3,
   "id": "cdf5718d",
   "metadata": {},
   "outputs": [],
   "source": [
    "# 리스트의 주소값 추가\n",
    "list1.append(6)"
   ]
  },
  {
   "cell_type": "code",
   "execution_count": 5,
   "id": "4a8a44a5",
   "metadata": {},
   "outputs": [
    {
     "data": {
      "text/plain": [
       "2042544785600"
      ]
     },
     "execution_count": 5,
     "metadata": {},
     "output_type": "execute_result"
    }
   ],
   "source": [
    "# 리스트에 새로운 값 할당\n",
    "list1 = [1,2,3,4]\n",
    "id(list1)"
   ]
  },
  {
   "cell_type": "code",
   "execution_count": 6,
   "id": "ffa07bd7",
   "metadata": {},
   "outputs": [
    {
     "data": {
      "text/plain": [
       "2042544785600"
      ]
     },
     "execution_count": 6,
     "metadata": {},
     "output_type": "execute_result"
    }
   ],
   "source": [
    "list2 = list1\n",
    "id(list2)"
   ]
  },
  {
   "cell_type": "code",
   "execution_count": 10,
   "id": "2015c960",
   "metadata": {},
   "outputs": [],
   "source": [
    "# list2.append(5)\n",
    "list1.append(6)"
   ]
  },
  {
   "cell_type": "code",
   "execution_count": 11,
   "id": "875dbc23",
   "metadata": {},
   "outputs": [
    {
     "name": "stdout",
     "output_type": "stream",
     "text": [
      "list1 :  [1, 2, 3, 4, 5, 6]\n",
      "list2 :  [1, 2, 3, 4, 5, 6]\n"
     ]
    }
   ],
   "source": [
    "print(\"list1 : \",list1)\n",
    "print(\"list2 : \",list2)"
   ]
  },
  {
   "cell_type": "code",
   "execution_count": 15,
   "id": "bf98b231",
   "metadata": {},
   "outputs": [
    {
     "data": {
      "text/plain": [
       "2042544241984"
      ]
     },
     "execution_count": 15,
     "metadata": {},
     "output_type": "execute_result"
    }
   ],
   "source": [
    "# 다른 주소로 값만 가져오기\n",
    "# .copy() : 값만 가져오는 기능\n",
    "list3 = list1.copy()\n",
    "id(list3)"
   ]
  },
  {
   "cell_type": "code",
   "execution_count": 13,
   "id": "0add4fcd",
   "metadata": {},
   "outputs": [
    {
     "data": {
      "text/plain": [
       "str"
      ]
     },
     "execution_count": 13,
     "metadata": {},
     "output_type": "execute_result"
    }
   ],
   "source": [
    "str1 = '문자열'\n",
    "type(str1)"
   ]
  },
  {
   "cell_type": "code",
   "execution_count": 14,
   "id": "a88b8a21",
   "metadata": {},
   "outputs": [
    {
     "data": {
      "text/plain": [
       "int"
      ]
     },
     "execution_count": 14,
     "metadata": {},
     "output_type": "execute_result"
    }
   ],
   "source": [
    "int1 = 60\n",
    "type(int1)"
   ]
  },
  {
   "cell_type": "code",
   "execution_count": 16,
   "id": "5eccc168",
   "metadata": {},
   "outputs": [
    {
     "data": {
      "text/plain": [
       "str"
      ]
     },
     "execution_count": 16,
     "metadata": {},
     "output_type": "execute_result"
    }
   ],
   "source": [
    "int1 = '문자열'\n",
    "type(int1)"
   ]
  },
  {
   "cell_type": "markdown",
   "id": "47a038c3",
   "metadata": {},
   "source": [
    "### 리스트"
   ]
  },
  {
   "cell_type": "code",
   "execution_count": 17,
   "id": "af012507",
   "metadata": {},
   "outputs": [],
   "source": [
    "# remove, insert, pop, append, count, len, reverse, sort, 인덱싱, 슬라이싱, index ...\n",
    "# 인덱싱, 슬라이싱\n",
    "# append\n",
    "# remove"
   ]
  },
  {
   "cell_type": "code",
   "execution_count": 28,
   "id": "9dea23ee",
   "metadata": {},
   "outputs": [
    {
     "name": "stdout",
     "output_type": "stream",
     "text": [
      "[1, 2, 3, 4, 5, 6, 7, 8, 9, 10, 11, 12, 13, 14, 15, 16, 17, 18, 19, 20, 21, 22, 23, 24, 25, 26, 27, 28, 29, 30, 31, 32, 33, 34, 35, 36, 37, 38, 39, 40, 41, 42, 43, 44, 45, 46, 47, 48, 49, 50]\n"
     ]
    }
   ],
   "source": [
    "# 1 ~ 50까지가 담긴 리스트 생성하기\n",
    "# 반복문 사용\n",
    "\n",
    "#비어있는 리스트 생성(1부터 50까지 담을 용도)\n",
    "list1 = []\n",
    "\n",
    "# 리스트에 값 추가\n",
    "for i in range(1, 51):\n",
    "    list1.append(i) # append : 리스트에 값 추가\n",
    "    \n",
    "print(list1)\n"
   ]
  },
  {
   "cell_type": "code",
   "execution_count": 31,
   "id": "b95036e8",
   "metadata": {},
   "outputs": [
    {
     "name": "stdout",
     "output_type": "stream",
     "text": [
      "10\n"
     ]
    },
    {
     "data": {
      "text/plain": [
       "[15, 16, 17, 18, 19, 20, 21, 22, 23, 24, 25]"
      ]
     },
     "execution_count": 31,
     "metadata": {},
     "output_type": "execute_result"
    }
   ],
   "source": [
    "# 인덱싱 슬라이싱\n",
    "# 대괄호 []\n",
    "# 10 출력하기\n",
    "print(list1[9])\n",
    "# 15 ~ 25 출력하기\n",
    "list1[14:25]"
   ]
  },
  {
   "cell_type": "code",
   "execution_count": 32,
   "id": "a17c578f",
   "metadata": {},
   "outputs": [],
   "source": [
    "# print : 원하는 위치에서 출력 가능 : 실행\n",
    "# 변수명 출력 : 마지막 위치에서만 출력 가능 : 출력"
   ]
  },
  {
   "cell_type": "code",
   "execution_count": 33,
   "id": "e64cc86e",
   "metadata": {},
   "outputs": [
    {
     "name": "stdout",
     "output_type": "stream",
     "text": [
      "asdf\n",
      "asdf\n"
     ]
    }
   ],
   "source": [
    "# \\n : 개행\n",
    "str1 = 'asdf\\nasdf'\n",
    "print(str1)"
   ]
  },
  {
   "cell_type": "code",
   "execution_count": 34,
   "id": "4ecdbd57",
   "metadata": {},
   "outputs": [
    {
     "name": "stdout",
     "output_type": "stream",
     "text": [
      "[1, 2, 3, 4, 5, 6, 7, 8, 9, 10, 11, 12, 13, 14, 15, 16, 17, 18, 19, 20, 21, 22, 23, 24, 25, 26, 27, 28, 29, 30, 31, 32, 33, 34, 35, 36, 37, 38, 39, 40, 41, 42, 43, 44, 45, 46, 47, 48, 49, 50]\n"
     ]
    }
   ],
   "source": [
    "print(list1)"
   ]
  },
  {
   "cell_type": "markdown",
   "id": "5f61e2ed",
   "metadata": {},
   "source": [
    "### 딕셔너리\n",
    "- key, value로 이루어짐"
   ]
  },
  {
   "cell_type": "code",
   "execution_count": 41,
   "id": "e1f76832",
   "metadata": {},
   "outputs": [],
   "source": [
    "# dic_team 변수명을 사용해서 딕셔너리 만들기\n",
    "# 이름 나이 key값 사용\n",
    "# 팀원들의 정보"
   ]
  },
  {
   "cell_type": "code",
   "execution_count": 43,
   "id": "4ab7d959",
   "metadata": {},
   "outputs": [
    {
     "data": {
      "text/plain": [
       "{'이름': ['장뚝배기', '최인어공주', '왕언니', '해킹빌런', '우지'], '나이': [7, 13, 31, 17, 21]}"
      ]
     },
     "execution_count": 43,
     "metadata": {},
     "output_type": "execute_result"
    }
   ],
   "source": [
    "dic_team = {\n",
    "    '이름':['장뚝배기','최인어공주','왕언니','해킹빌런','우지'],\n",
    "    '나이':[7,13,31,17,21]\n",
    "}\n",
    "dic_team"
   ]
  },
  {
   "cell_type": "code",
   "execution_count": 46,
   "id": "d3e7dc2a",
   "metadata": {},
   "outputs": [],
   "source": [
    "import pandas as pd\n",
    "test_pd = pd.DataFrame(dic_team)"
   ]
  },
  {
   "cell_type": "code",
   "execution_count": 47,
   "id": "112e40b4",
   "metadata": {},
   "outputs": [],
   "source": [
    "test_pd.to_csv('asdf.csv',encoding = 'cp949')"
   ]
  },
  {
   "cell_type": "code",
   "execution_count": null,
   "id": "2b747d05",
   "metadata": {},
   "outputs": [],
   "source": []
  }
 ],
 "metadata": {
  "kernelspec": {
   "display_name": "Python 3 (ipykernel)",
   "language": "python",
   "name": "python3"
  },
  "language_info": {
   "codemirror_mode": {
    "name": "ipython",
    "version": 3
   },
   "file_extension": ".py",
   "mimetype": "text/x-python",
   "name": "python",
   "nbconvert_exporter": "python",
   "pygments_lexer": "ipython3",
   "version": "3.9.7"
  }
 },
 "nbformat": 4,
 "nbformat_minor": 5
}
