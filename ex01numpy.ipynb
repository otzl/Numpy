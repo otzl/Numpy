{
 "cells": [
  {
   "cell_type": "code",
   "execution_count": 1,
   "id": "46a5b285",
   "metadata": {},
   "outputs": [],
   "source": [
    "# numpy 라이브러리"
   ]
  },
  {
   "cell_type": "code",
   "execution_count": 2,
   "id": "e0df3ccb",
   "metadata": {},
   "outputs": [],
   "source": [
    "import numpy as np"
   ]
  },
  {
   "cell_type": "code",
   "execution_count": 3,
   "id": "992ade57",
   "metadata": {},
   "outputs": [
    {
     "data": {
      "text/plain": [
       "array([1, 2, 3, 4, 5])"
      ]
     },
     "execution_count": 3,
     "metadata": {},
     "output_type": "execute_result"
    }
   ],
   "source": [
    "# array 생성하기\n",
    "list1 = [1,2,3,4,5]\n",
    "arr = np.array(list1)\n",
    "arr"
   ]
  },
  {
   "cell_type": "code",
   "execution_count": 4,
   "id": "846a09e5",
   "metadata": {},
   "outputs": [
    {
     "data": {
      "text/plain": [
       "array([1, 2, 3, 4, 5])"
      ]
     },
     "execution_count": 4,
     "metadata": {},
     "output_type": "execute_result"
    }
   ],
   "source": [
    "arr1 = np.array([1,2,3,4,5])\n",
    "arr1"
   ]
  },
  {
   "cell_type": "code",
   "execution_count": 5,
   "id": "0d0b41de",
   "metadata": {},
   "outputs": [
    {
     "data": {
      "text/plain": [
       "array([ 2,  4,  6,  8, 10])"
      ]
     },
     "execution_count": 5,
     "metadata": {},
     "output_type": "execute_result"
    }
   ],
   "source": [
    "# 연산을 진행하면 각 요소끼리 연산을 진행\n",
    "arr + arr1"
   ]
  },
  {
   "cell_type": "code",
   "execution_count": 6,
   "id": "a13eab9d",
   "metadata": {},
   "outputs": [
    {
     "data": {
      "text/plain": [
       "array([ 1,  4,  9, 16, 25])"
      ]
     },
     "execution_count": 6,
     "metadata": {},
     "output_type": "execute_result"
    }
   ],
   "source": [
    "arr * arr1"
   ]
  },
  {
   "cell_type": "code",
   "execution_count": 7,
   "id": "cfc2cf7e",
   "metadata": {},
   "outputs": [],
   "source": [
    "# 리스트\n",
    "# [1,2,3], [4,5,6] 각 요소의 값을 더한다"
   ]
  },
  {
   "cell_type": "code",
   "execution_count": 8,
   "id": "c80bde2c",
   "metadata": {},
   "outputs": [
    {
     "data": {
      "text/plain": [
       "[5, 7, 9]"
      ]
     },
     "execution_count": 8,
     "metadata": {},
     "output_type": "execute_result"
    }
   ],
   "source": [
    "list1 = [1,2,3]\n",
    "list2 = [4,5,6]\n",
    "list3 = []\n",
    "for i in range(3):\n",
    "    list3.append(list1[i]+list2[i])\n",
    "list3"
   ]
  },
  {
   "cell_type": "code",
   "execution_count": 9,
   "id": "a1343d10",
   "metadata": {},
   "outputs": [
    {
     "data": {
      "text/plain": [
       "array([[1, 2, 3],\n",
       "       [4, 5, 6]])"
      ]
     },
     "execution_count": 9,
     "metadata": {},
     "output_type": "execute_result"
    }
   ],
   "source": [
    "# 2차원 array 생성하기\n",
    "arr2 = np.array( [[1,2,3], [4,5,6]])\n",
    "arr2"
   ]
  },
  {
   "cell_type": "code",
   "execution_count": 10,
   "id": "95bdfc6b",
   "metadata": {},
   "outputs": [
    {
     "data": {
      "text/plain": [
       "(2, 3)"
      ]
     },
     "execution_count": 10,
     "metadata": {},
     "output_type": "execute_result"
    }
   ],
   "source": [
    "# array의 크기 확인하기\n",
    "# shape\n",
    "arr2.shape"
   ]
  },
  {
   "cell_type": "code",
   "execution_count": 11,
   "id": "c8c764ee",
   "metadata": {},
   "outputs": [
    {
     "data": {
      "text/plain": [
       "6"
      ]
     },
     "execution_count": 11,
     "metadata": {},
     "output_type": "execute_result"
    }
   ],
   "source": [
    "# array의 전체 요소 개수 확인하기\n",
    "# size\n",
    "arr2.size"
   ]
  },
  {
   "cell_type": "code",
   "execution_count": 12,
   "id": "4afc4708",
   "metadata": {},
   "outputs": [
    {
     "data": {
      "text/plain": [
       "dtype('int32')"
      ]
     },
     "execution_count": 12,
     "metadata": {},
     "output_type": "execute_result"
    }
   ],
   "source": [
    "# array의 타입 확인하기\n",
    "# dtype\n",
    "arr2.dtype"
   ]
  },
  {
   "cell_type": "code",
   "execution_count": 13,
   "id": "78e3a051",
   "metadata": {},
   "outputs": [
    {
     "data": {
      "text/plain": [
       "2"
      ]
     },
     "execution_count": 13,
     "metadata": {},
     "output_type": "execute_result"
    }
   ],
   "source": [
    "# array의 차원 확인하기\n",
    "# ndim\n",
    "arr2.ndim"
   ]
  },
  {
   "cell_type": "code",
   "execution_count": 14,
   "id": "5d0d9e63",
   "metadata": {},
   "outputs": [
    {
     "data": {
      "text/plain": [
       "array([[[1, 2],\n",
       "        [3, 4]],\n",
       "\n",
       "       [[5, 6],\n",
       "        [7, 8]]])"
      ]
     },
     "execution_count": 14,
     "metadata": {},
     "output_type": "execute_result"
    }
   ],
   "source": [
    "# 3차원의 array만들고 배열의 크기, 차원, 전체 요소개수 확인\n",
    "arr3 = np.array([ [[1,2],[3,4]],[[5,6],[7,8]] ])\n",
    "arr3"
   ]
  },
  {
   "cell_type": "code",
   "execution_count": 15,
   "id": "ad499928",
   "metadata": {},
   "outputs": [
    {
     "name": "stdout",
     "output_type": "stream",
     "text": [
      "배열의 크기 : (2, 2, 2)\n",
      "배열의 차원 : 3\n",
      "배열의 개수 : 8\n"
     ]
    }
   ],
   "source": [
    "print(f'배열의 크기 : {arr3.shape}')\n",
    "print(f'배열의 차원 : {arr3.ndim}')\n",
    "print(f'배열의 개수 : {arr3.size}')"
   ]
  },
  {
   "cell_type": "code",
   "execution_count": 16,
   "id": "26d16d6e",
   "metadata": {},
   "outputs": [
    {
     "data": {
      "text/plain": [
       "array([[0., 0., 0., 0.],\n",
       "       [0., 0., 0., 0.],\n",
       "       [0., 0., 0., 0.]])"
      ]
     },
     "execution_count": 16,
     "metadata": {},
     "output_type": "execute_result"
    }
   ],
   "source": [
    "# 배열 생성하기\n",
    "# 0값으로 생성하기\n",
    "# zeros (배열의 크기)\n",
    "np.zeros((3,4))"
   ]
  },
  {
   "cell_type": "code",
   "execution_count": 17,
   "id": "f82d017d",
   "metadata": {},
   "outputs": [
    {
     "data": {
      "text/plain": [
       "array([[1., 1., 1., 1.],\n",
       "       [1., 1., 1., 1.],\n",
       "       [1., 1., 1., 1.]])"
      ]
     },
     "execution_count": 17,
     "metadata": {},
     "output_type": "execute_result"
    }
   ],
   "source": [
    "# 1값으로 생성하기\n",
    "# ones()\n",
    "np.ones((3,4))"
   ]
  },
  {
   "cell_type": "code",
   "execution_count": 18,
   "id": "e9d0abbc",
   "metadata": {},
   "outputs": [
    {
     "data": {
      "text/plain": [
       "array([[5, 5, 5, 5],\n",
       "       [5, 5, 5, 5],\n",
       "       [5, 5, 5, 5]])"
      ]
     },
     "execution_count": 18,
     "metadata": {},
     "output_type": "execute_result"
    }
   ],
   "source": [
    "# 지정해서 생성하기\n",
    "# full (배열의 크기, 채워넣을 값)\n",
    "np.full((3,4),5)"
   ]
  },
  {
   "cell_type": "code",
   "execution_count": 19,
   "id": "9713e5c0",
   "metadata": {},
   "outputs": [
    {
     "data": {
      "text/plain": [
       "array([ 0,  1,  2,  3,  4,  5,  6,  7,  8,  9, 10, 11, 12, 13, 14, 15, 16,\n",
       "       17, 18, 19, 20, 21, 22, 23, 24, 25, 26, 27, 28, 29, 30, 31, 32, 33,\n",
       "       34, 35, 36, 37, 38, 39, 40, 41, 42, 43, 44, 45, 46, 47, 48, 49])"
      ]
     },
     "execution_count": 19,
     "metadata": {},
     "output_type": "execute_result"
    }
   ],
   "source": [
    "# 연속되는 숫자로 배열 생성하기\n",
    "# arange (시작하는 수, 끝나는 수 +1, 간격이되는 수)\n",
    "# 시작하는 수 기본값 : 0\n",
    "# 간격이 되는 수 기본값 : 1\n",
    "np.arange(0,50,1)"
   ]
  },
  {
   "cell_type": "code",
   "execution_count": 20,
   "id": "7886c50a",
   "metadata": {},
   "outputs": [
    {
     "data": {
      "text/plain": [
       "array([ 1, 11, 21, 31, 41])"
      ]
     },
     "execution_count": 20,
     "metadata": {},
     "output_type": "execute_result"
    }
   ],
   "source": [
    "# [1,11,21,31,41] 이 들어가있는 array 만들기\n",
    "np.arange(1,42,10)"
   ]
  },
  {
   "cell_type": "code",
   "execution_count": 21,
   "id": "75152683",
   "metadata": {},
   "outputs": [
    {
     "data": {
      "text/plain": [
       "array([ 1.,  2.,  3.,  4.,  5.,  6.,  7.,  8.,  9., 10., 11., 12., 13.,\n",
       "       14., 15., 16., 17., 18., 19., 20., 21., 22., 23., 24., 25., 26.,\n",
       "       27., 28., 29., 30., 31., 32., 33., 34., 35., 36., 37., 38., 39.,\n",
       "       40., 41., 42., 43., 44., 45., 46., 47., 48., 49., 50.])"
      ]
     },
     "execution_count": 21,
     "metadata": {},
     "output_type": "execute_result"
    }
   ],
   "source": [
    "# 1부터 50까지 1씩 커지는 배열 만들기\n",
    "# np.linspace(시작하는 수, 끝나는 수, 등분할 값)\n",
    "# 같은 간격만큼의 배열을 만들 때 사용\n",
    "np.linspace(1,50,50)"
   ]
  },
  {
   "cell_type": "code",
   "execution_count": 23,
   "id": "796923fc",
   "metadata": {},
   "outputs": [
    {
     "name": "stdout",
     "output_type": "stream",
     "text": [
      "1.0\n",
      "3.5789473684210527\n",
      "6.157894736842105\n",
      "8.736842105263158\n",
      "11.31578947368421\n",
      "13.894736842105264\n",
      "16.473684210526315\n",
      "19.05263157894737\n",
      "21.63157894736842\n",
      "24.210526315789473\n",
      "26.789473684210527\n",
      "29.36842105263158\n",
      "31.94736842105263\n",
      "34.526315789473685\n",
      "37.10526315789474\n",
      "39.68421052631579\n",
      "42.26315789473684\n",
      "44.8421052631579\n",
      "47.421052631578945\n",
      "50.0\n"
     ]
    }
   ],
   "source": [
    "for i in np.linspace(1,50,20):\n",
    "    print(i)"
   ]
  },
  {
   "cell_type": "code",
   "execution_count": 24,
   "id": "56662967",
   "metadata": {},
   "outputs": [
    {
     "data": {
      "text/plain": [
       "array([[0.71744149, 0.99640623, 0.8914887 ],\n",
       "       [0.25829532, 0.88261228, 0.82494592]])"
      ]
     },
     "execution_count": 24,
     "metadata": {},
     "output_type": "execute_result"
    }
   ],
   "source": [
    "# 랜덤값으로 배열 생성하기\n",
    "# np.random.rand(배열의 크기)\n",
    "# 0 ~ 1 사이의 값을 가지는 배열을 생성\n",
    "np.random.rand(2,3)"
   ]
  },
  {
   "cell_type": "code",
   "execution_count": 27,
   "id": "1d364829",
   "metadata": {},
   "outputs": [
    {
     "data": {
      "text/plain": [
       "array([[6, 8],\n",
       "       [8, 2],\n",
       "       [4, 5]])"
      ]
     },
     "execution_count": 27,
     "metadata": {},
     "output_type": "execute_result"
    }
   ],
   "source": [
    "# 원하는 범위에서 랜덤값 생성\n",
    "# np.random.randint(시작수, 끝수+1, size = 배열의 크기)\n",
    "np.random.randint(2,10, size = (3,2))"
   ]
  },
  {
   "cell_type": "code",
   "execution_count": null,
   "id": "01e33ba5",
   "metadata": {},
   "outputs": [],
   "source": [
    "# 2부터 10까지의 랜덤한 실수값으로 이루어진 (5,4) 크기의 배열 생성\n",
    "# np.random.rand, np.random.randint 사용"
   ]
  },
  {
   "cell_type": "code",
   "execution_count": 44,
   "id": "826e52cb",
   "metadata": {},
   "outputs": [
    {
     "data": {
      "text/plain": [
       "array([[2, 5, 6, 6],\n",
       "       [6, 3, 8, 7],\n",
       "       [7, 2, 5, 6],\n",
       "       [3, 4, 6, 9],\n",
       "       [2, 3, 2, 7]])"
      ]
     },
     "execution_count": 44,
     "metadata": {},
     "output_type": "execute_result"
    }
   ],
   "source": [
    "# 정수 + 소숫점 = 실수\n",
    "정수 = np.random.randint(2,10, size = (5,4))\n",
    "정수"
   ]
  },
  {
   "cell_type": "code",
   "execution_count": 45,
   "id": "5a138241",
   "metadata": {},
   "outputs": [
    {
     "data": {
      "text/plain": [
       "array([[0.45358344, 0.04169654, 0.03285211, 0.64514858],\n",
       "       [0.66645131, 0.1263393 , 0.10548678, 0.68314202],\n",
       "       [0.75732142, 0.86909598, 0.278153  , 0.17759955],\n",
       "       [0.26006846, 0.56460982, 0.62225921, 0.95085006],\n",
       "       [0.47729082, 0.11458636, 0.48766518, 0.36033532]])"
      ]
     },
     "execution_count": 45,
     "metadata": {},
     "output_type": "execute_result"
    }
   ],
   "source": [
    "소숫점 = np.random.rand(5,4)\n",
    "소숫점"
   ]
  },
  {
   "cell_type": "code",
   "execution_count": 47,
   "id": "096a168b",
   "metadata": {},
   "outputs": [
    {
     "data": {
      "text/plain": [
       "array([[2.45358344, 5.04169654, 6.03285211, 6.64514858],\n",
       "       [6.66645131, 3.1263393 , 8.10548678, 7.68314202],\n",
       "       [7.75732142, 2.86909598, 5.278153  , 6.17759955],\n",
       "       [3.26006846, 4.56460982, 6.62225921, 9.95085006],\n",
       "       [2.47729082, 3.11458636, 2.48766518, 7.36033532]])"
      ]
     },
     "execution_count": 47,
     "metadata": {},
     "output_type": "execute_result"
    }
   ],
   "source": [
    "num = 정수 + 소숫점\n",
    "num"
   ]
  },
  {
   "cell_type": "code",
   "execution_count": 48,
   "id": "04c1ba43",
   "metadata": {},
   "outputs": [],
   "source": [
    "# 타입 변경하기\n",
    "# 배열, astype(변경 할 타입)"
   ]
  },
  {
   "cell_type": "code",
   "execution_count": 49,
   "id": "238d4c1e",
   "metadata": {},
   "outputs": [
    {
     "data": {
      "text/plain": [
       "array([[2, 5, 6, 6],\n",
       "       [6, 3, 8, 7],\n",
       "       [7, 2, 5, 6],\n",
       "       [3, 4, 6, 9],\n",
       "       [2, 3, 2, 7]])"
      ]
     },
     "execution_count": 49,
     "metadata": {},
     "output_type": "execute_result"
    }
   ],
   "source": [
    "num.astype(\"int\")"
   ]
  },
  {
   "cell_type": "code",
   "execution_count": null,
   "id": "d2bc93fe",
   "metadata": {},
   "outputs": [],
   "source": []
  },
  {
   "cell_type": "code",
   "execution_count": null,
   "id": "52bb5097",
   "metadata": {},
   "outputs": [],
   "source": []
  },
  {
   "cell_type": "code",
   "execution_count": null,
   "id": "e22fe19b",
   "metadata": {},
   "outputs": [],
   "source": []
  },
  {
   "cell_type": "code",
   "execution_count": null,
   "id": "b4cb5a8a",
   "metadata": {},
   "outputs": [],
   "source": []
  },
  {
   "cell_type": "code",
   "execution_count": null,
   "id": "cd0785e4",
   "metadata": {},
   "outputs": [],
   "source": []
  },
  {
   "cell_type": "code",
   "execution_count": null,
   "id": "688ba0c4",
   "metadata": {},
   "outputs": [],
   "source": []
  },
  {
   "cell_type": "code",
   "execution_count": null,
   "id": "518bd04f",
   "metadata": {},
   "outputs": [],
   "source": []
  },
  {
   "cell_type": "code",
   "execution_count": null,
   "id": "4e91b599",
   "metadata": {},
   "outputs": [],
   "source": []
  },
  {
   "cell_type": "code",
   "execution_count": null,
   "id": "7975a9f8",
   "metadata": {},
   "outputs": [],
   "source": []
  }
 ],
 "metadata": {
  "kernelspec": {
   "display_name": "Python 3 (ipykernel)",
   "language": "python",
   "name": "python3"
  },
  "language_info": {
   "codemirror_mode": {
    "name": "ipython",
    "version": 3
   },
   "file_extension": ".py",
   "mimetype": "text/x-python",
   "name": "python",
   "nbconvert_exporter": "python",
   "pygments_lexer": "ipython3",
   "version": "3.9.7"
  }
 },
 "nbformat": 4,
 "nbformat_minor": 5
}
